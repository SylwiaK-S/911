{
 "cells": [
  {
   "cell_type": "markdown",
   "metadata": {},
   "source": [
    "# DATA ANALYSIS"
   ]
  },
  {
   "cell_type": "markdown",
   "metadata": {},
   "source": [
    " Data downloaded from Kaggle Dataset: https://www.kaggle.com/mchirico/montcoalert"
   ]
  },
  {
   "cell_type": "code",
   "execution_count": 99,
   "metadata": {},
   "outputs": [],
   "source": [
    "# Loading libraries\n",
    "import numpy as np\n",
    "import pandas as pd\n",
    "import matplotlib.pyplot as plt\n",
    "import seaborn as sns"
   ]
  },
  {
   "cell_type": "code",
   "execution_count": 100,
   "metadata": {},
   "outputs": [],
   "source": [
    "df = pd.read_csv('D:\\Sylwia\\Data Science Projects\\911\\911.csv', dtype={'zip':str}, parse_dates=[5])"
   ]
  },
  {
   "cell_type": "code",
   "execution_count": 92,
   "metadata": {},
   "outputs": [],
   "source": [
    "# Understand your data\n",
    "def data_info(df):\n",
    "    print('Number of Instances: {}'.format(df.shape[0]))\n",
    "    print('Number of Features: {}'.format(df.shape[1]))\n",
    "    print('\\nSummary statistics')\n",
    "    print(df.describe())\n",
    "    print('\\nHow many values are missing?')\n",
    "    print(df.isna().sum())\n",
    "    print('\\nWhat is the % of missing values?') # To determine if rows with missing values should be dropped or not\n",
    "    print(round(df.isna().sum()*100/len(df),2))\n",
    "    print('\\nFeatures types')\n",
    "    print(df.dtypes)"
   ]
  },
  {
   "cell_type": "code",
   "execution_count": 4,
   "metadata": {},
   "outputs": [
    {
     "name": "stdout",
     "output_type": "stream",
     "text": [
      "Number of Instances: 637239\n",
      "Number of Features: 9\n",
      "\n",
      "Summary statistics\n",
      "                 lat            lng         e\n",
      "count  637239.000000  637239.000000  637239.0\n",
      "mean       40.158006     -75.301268       1.0\n",
      "std         0.212923       1.604792       0.0\n",
      "min         0.000000    -119.698206       1.0\n",
      "25%        40.100234     -75.392104       1.0\n",
      "50%        40.143729     -75.304863       1.0\n",
      "75%        40.229008     -75.211865       1.0\n",
      "max        51.335390      87.854975       1.0\n",
      "\n",
      "How many values are missing?\n",
      "lat              0\n",
      "lng              0\n",
      "desc             0\n",
      "zip          77399\n",
      "title            0\n",
      "timeStamp        0\n",
      "twp            273\n",
      "addr             0\n",
      "e                0\n",
      "dtype: int64\n",
      "\n",
      "What is the % of missing values?\n",
      "lat           0.00\n",
      "lng           0.00\n",
      "desc          0.00\n",
      "zip          12.15\n",
      "title         0.00\n",
      "timeStamp     0.00\n",
      "twp           0.04\n",
      "addr          0.00\n",
      "e             0.00\n",
      "dtype: float64\n",
      "\n",
      "Features types\n",
      "lat                 float64\n",
      "lng                 float64\n",
      "desc                 object\n",
      "zip                  object\n",
      "title                object\n",
      "timeStamp    datetime64[ns]\n",
      "twp                  object\n",
      "addr                 object\n",
      "e                     int64\n",
      "dtype: object\n"
     ]
    }
   ],
   "source": [
    "data_info(df)"
   ]
  },
  {
   "cell_type": "code",
   "execution_count": 93,
   "metadata": {},
   "outputs": [
    {
     "data": {
      "text/html": [
       "<div>\n",
       "<style scoped>\n",
       "    .dataframe tbody tr th:only-of-type {\n",
       "        vertical-align: middle;\n",
       "    }\n",
       "\n",
       "    .dataframe tbody tr th {\n",
       "        vertical-align: top;\n",
       "    }\n",
       "\n",
       "    .dataframe thead th {\n",
       "        text-align: right;\n",
       "    }\n",
       "</style>\n",
       "<table border=\"1\" class=\"dataframe\">\n",
       "  <thead>\n",
       "    <tr style=\"text-align: right;\">\n",
       "      <th></th>\n",
       "      <th>lat</th>\n",
       "      <th>lng</th>\n",
       "      <th>desc</th>\n",
       "      <th>zip</th>\n",
       "      <th>title</th>\n",
       "      <th>timeStamp</th>\n",
       "      <th>twp</th>\n",
       "      <th>addr</th>\n",
       "      <th>e</th>\n",
       "    </tr>\n",
       "  </thead>\n",
       "  <tbody>\n",
       "    <tr>\n",
       "      <th>0</th>\n",
       "      <td>40.297876</td>\n",
       "      <td>-75.581294</td>\n",
       "      <td>REINDEER CT &amp; DEAD END;  NEW HANOVER; Station ...</td>\n",
       "      <td>19525</td>\n",
       "      <td>EMS: BACK PAINS/INJURY</td>\n",
       "      <td>2015-12-10 17:10:52</td>\n",
       "      <td>NEW HANOVER</td>\n",
       "      <td>REINDEER CT &amp; DEAD END</td>\n",
       "      <td>1</td>\n",
       "    </tr>\n",
       "    <tr>\n",
       "      <th>1</th>\n",
       "      <td>40.258061</td>\n",
       "      <td>-75.264680</td>\n",
       "      <td>BRIAR PATH &amp; WHITEMARSH LN;  HATFIELD TOWNSHIP...</td>\n",
       "      <td>19446</td>\n",
       "      <td>EMS: DIABETIC EMERGENCY</td>\n",
       "      <td>2015-12-10 17:29:21</td>\n",
       "      <td>HATFIELD TOWNSHIP</td>\n",
       "      <td>BRIAR PATH &amp; WHITEMARSH LN</td>\n",
       "      <td>1</td>\n",
       "    </tr>\n",
       "    <tr>\n",
       "      <th>2</th>\n",
       "      <td>40.121182</td>\n",
       "      <td>-75.351975</td>\n",
       "      <td>HAWS AVE; NORRISTOWN; 2015-12-10 @ 14:39:21-St...</td>\n",
       "      <td>19401</td>\n",
       "      <td>Fire: GAS-ODOR/LEAK</td>\n",
       "      <td>2015-12-10 14:39:21</td>\n",
       "      <td>NORRISTOWN</td>\n",
       "      <td>HAWS AVE</td>\n",
       "      <td>1</td>\n",
       "    </tr>\n",
       "    <tr>\n",
       "      <th>3</th>\n",
       "      <td>40.116153</td>\n",
       "      <td>-75.343513</td>\n",
       "      <td>AIRY ST &amp; SWEDE ST;  NORRISTOWN; Station 308A;...</td>\n",
       "      <td>19401</td>\n",
       "      <td>EMS: CARDIAC EMERGENCY</td>\n",
       "      <td>2015-12-10 16:47:36</td>\n",
       "      <td>NORRISTOWN</td>\n",
       "      <td>AIRY ST &amp; SWEDE ST</td>\n",
       "      <td>1</td>\n",
       "    </tr>\n",
       "    <tr>\n",
       "      <th>4</th>\n",
       "      <td>40.251492</td>\n",
       "      <td>-75.603350</td>\n",
       "      <td>CHERRYWOOD CT &amp; DEAD END;  LOWER POTTSGROVE; S...</td>\n",
       "      <td>NaN</td>\n",
       "      <td>EMS: DIZZINESS</td>\n",
       "      <td>2015-12-10 16:56:52</td>\n",
       "      <td>LOWER POTTSGROVE</td>\n",
       "      <td>CHERRYWOOD CT &amp; DEAD END</td>\n",
       "      <td>1</td>\n",
       "    </tr>\n",
       "  </tbody>\n",
       "</table>\n",
       "</div>"
      ],
      "text/plain": [
       "         lat        lng                                               desc  \\\n",
       "0  40.297876 -75.581294  REINDEER CT & DEAD END;  NEW HANOVER; Station ...   \n",
       "1  40.258061 -75.264680  BRIAR PATH & WHITEMARSH LN;  HATFIELD TOWNSHIP...   \n",
       "2  40.121182 -75.351975  HAWS AVE; NORRISTOWN; 2015-12-10 @ 14:39:21-St...   \n",
       "3  40.116153 -75.343513  AIRY ST & SWEDE ST;  NORRISTOWN; Station 308A;...   \n",
       "4  40.251492 -75.603350  CHERRYWOOD CT & DEAD END;  LOWER POTTSGROVE; S...   \n",
       "\n",
       "     zip                    title           timeStamp                twp  \\\n",
       "0  19525   EMS: BACK PAINS/INJURY 2015-12-10 17:10:52        NEW HANOVER   \n",
       "1  19446  EMS: DIABETIC EMERGENCY 2015-12-10 17:29:21  HATFIELD TOWNSHIP   \n",
       "2  19401      Fire: GAS-ODOR/LEAK 2015-12-10 14:39:21         NORRISTOWN   \n",
       "3  19401   EMS: CARDIAC EMERGENCY 2015-12-10 16:47:36         NORRISTOWN   \n",
       "4    NaN           EMS: DIZZINESS 2015-12-10 16:56:52   LOWER POTTSGROVE   \n",
       "\n",
       "                         addr  e  \n",
       "0      REINDEER CT & DEAD END  1  \n",
       "1  BRIAR PATH & WHITEMARSH LN  1  \n",
       "2                    HAWS AVE  1  \n",
       "3          AIRY ST & SWEDE ST  1  \n",
       "4    CHERRYWOOD CT & DEAD END  1  "
      ]
     },
     "execution_count": 93,
     "metadata": {},
     "output_type": "execute_result"
    }
   ],
   "source": [
    "df.head()"
   ]
  },
  {
   "cell_type": "code",
   "execution_count": 101,
   "metadata": {},
   "outputs": [],
   "source": [
    "columns = ['Latitude', 'Longitude', 'Emergency Description', 'ZIP Code', \n",
    "           'Emergency Title', 'Date and time', 'Township', 'General Address', 'Index column, always 1']"
   ]
  },
  {
   "cell_type": "code",
   "execution_count": 102,
   "metadata": {},
   "outputs": [],
   "source": [
    "df.columns = columns"
   ]
  },
  {
   "cell_type": "code",
   "execution_count": 103,
   "metadata": {},
   "outputs": [],
   "source": [
    "df.drop(['ZIP Code'], axis=1, inplace=True)"
   ]
  },
  {
   "cell_type": "code",
   "execution_count": 104,
   "metadata": {},
   "outputs": [],
   "source": [
    "#Create a new column with a Emergency Category\n",
    "df['Emergency category'] = df['Emergency Title'].str.split(':', n=1, expand = True)[0]"
   ]
  },
  {
   "cell_type": "code",
   "execution_count": 105,
   "metadata": {},
   "outputs": [],
   "source": [
    "df['Emergency Title'] = df['Emergency Title'].str.split(':', n=1, expand = True)[1]"
   ]
  },
  {
   "cell_type": "code",
   "execution_count": 106,
   "metadata": {},
   "outputs": [],
   "source": [
    "# CHANGING OBJECT TYPES\n",
    "df['Emergency Description'] = df['Emergency Description'].astype(str)\n",
    "df['Emergency Title'] = df['Emergency Title'].astype('category')\n",
    "df['Emergency category'] = df['Emergency category'].astype('category')"
   ]
  },
  {
   "cell_type": "code",
   "execution_count": 107,
   "metadata": {},
   "outputs": [],
   "source": [
    "df['Emergency Title'] = df['Emergency Title'].str.split('-', n=1, expand=True)[0]"
   ]
  },
  {
   "cell_type": "code",
   "execution_count": 108,
   "metadata": {},
   "outputs": [
    {
     "data": {
      "text/html": [
       "<div>\n",
       "<style scoped>\n",
       "    .dataframe tbody tr th:only-of-type {\n",
       "        vertical-align: middle;\n",
       "    }\n",
       "\n",
       "    .dataframe tbody tr th {\n",
       "        vertical-align: top;\n",
       "    }\n",
       "\n",
       "    .dataframe thead th {\n",
       "        text-align: right;\n",
       "    }\n",
       "</style>\n",
       "<table border=\"1\" class=\"dataframe\">\n",
       "  <thead>\n",
       "    <tr style=\"text-align: right;\">\n",
       "      <th></th>\n",
       "      <th>Latitude</th>\n",
       "      <th>Longitude</th>\n",
       "      <th>Emergency Description</th>\n",
       "      <th>Emergency Title</th>\n",
       "      <th>Date and time</th>\n",
       "      <th>Township</th>\n",
       "      <th>General Address</th>\n",
       "      <th>Index column, always 1</th>\n",
       "      <th>Emergency category</th>\n",
       "    </tr>\n",
       "  </thead>\n",
       "  <tbody>\n",
       "    <tr>\n",
       "      <th>1635</th>\n",
       "      <td>40.162804</td>\n",
       "      <td>-75.097848</td>\n",
       "      <td>TURNPIKE OVERPASS; ; 2015-12-14 @ 21:36:52-Sta...</td>\n",
       "      <td>VEHICLE ACCIDENT</td>\n",
       "      <td>2015-12-14 21:36:52</td>\n",
       "      <td>NaN</td>\n",
       "      <td>TURNPIKE OVERPASS</td>\n",
       "      <td>1</td>\n",
       "      <td>Fire</td>\n",
       "    </tr>\n",
       "    <tr>\n",
       "      <th>1821</th>\n",
       "      <td>40.099265</td>\n",
       "      <td>-75.175706</td>\n",
       "      <td>CHURCH RD;  ; Station 322; 2015-12-15 @ 11:31:36;</td>\n",
       "      <td>UNKNOWN MEDICAL EMERGENCY</td>\n",
       "      <td>2015-12-15 11:31:36</td>\n",
       "      <td>NaN</td>\n",
       "      <td>CHURCH RD</td>\n",
       "      <td>1</td>\n",
       "      <td>EMS</td>\n",
       "    </tr>\n",
       "    <tr>\n",
       "      <th>5455</th>\n",
       "      <td>40.222272</td>\n",
       "      <td>-75.138302</td>\n",
       "      <td>GIANT; ; 2015-12-24 @ 17:30:07-Station:STA98;</td>\n",
       "      <td>VEHICLE ACCIDENT</td>\n",
       "      <td>2015-12-24 17:30:07</td>\n",
       "      <td>NaN</td>\n",
       "      <td>GIANT</td>\n",
       "      <td>1</td>\n",
       "      <td>Fire</td>\n",
       "    </tr>\n",
       "    <tr>\n",
       "      <th>7281</th>\n",
       "      <td>40.113516</td>\n",
       "      <td>-75.332257</td>\n",
       "      <td>HIGH ST;  ; Station 329; 2015-12-30 @ 03:32:49;</td>\n",
       "      <td>VEHICLE ACCIDENT</td>\n",
       "      <td>2015-12-30 03:32:49</td>\n",
       "      <td>NaN</td>\n",
       "      <td>HIGH ST</td>\n",
       "      <td>1</td>\n",
       "      <td>EMS</td>\n",
       "    </tr>\n",
       "    <tr>\n",
       "      <th>7282</th>\n",
       "      <td>40.113516</td>\n",
       "      <td>-75.332257</td>\n",
       "      <td>HIGH ST; ; 2015-12-30 @ 03:32:28-Station:STA58;</td>\n",
       "      <td>VEHICLE ACCIDENT</td>\n",
       "      <td>2015-12-30 03:32:28</td>\n",
       "      <td>NaN</td>\n",
       "      <td>HIGH ST</td>\n",
       "      <td>1</td>\n",
       "      <td>Fire</td>\n",
       "    </tr>\n",
       "    <tr>\n",
       "      <th>...</th>\n",
       "      <td>...</td>\n",
       "      <td>...</td>\n",
       "      <td>...</td>\n",
       "      <td>...</td>\n",
       "      <td>...</td>\n",
       "      <td>...</td>\n",
       "      <td>...</td>\n",
       "      <td>...</td>\n",
       "      <td>...</td>\n",
       "    </tr>\n",
       "    <tr>\n",
       "      <th>623919</th>\n",
       "      <td>40.229008</td>\n",
       "      <td>-75.387853</td>\n",
       "      <td>NO LOCATION - NEIGHBORING COUNTY;  ; Station 3...</td>\n",
       "      <td>UNKNOWN MEDICAL EMERGENCY</td>\n",
       "      <td>2020-03-29 21:35:52</td>\n",
       "      <td>NaN</td>\n",
       "      <td>NO LOCATION - NEIGHBORING COUNTY</td>\n",
       "      <td>1</td>\n",
       "      <td>EMS</td>\n",
       "    </tr>\n",
       "    <tr>\n",
       "      <th>630844</th>\n",
       "      <td>40.152817</td>\n",
       "      <td>-75.224465</td>\n",
       "      <td>STATION;  ; Station 313; 2020-04-24 @ 11:56:55;</td>\n",
       "      <td>CARDIAC EMERGENCY</td>\n",
       "      <td>2020-04-24 11:56:55</td>\n",
       "      <td>NaN</td>\n",
       "      <td>STATION</td>\n",
       "      <td>1</td>\n",
       "      <td>EMS</td>\n",
       "    </tr>\n",
       "    <tr>\n",
       "      <th>631459</th>\n",
       "      <td>40.102534</td>\n",
       "      <td>-75.196589</td>\n",
       "      <td>HIGH; ; 2020-04-26 @ 22:52:33-Station:STA69;</td>\n",
       "      <td>FIRE ALARM</td>\n",
       "      <td>2020-04-26 22:52:33</td>\n",
       "      <td>NaN</td>\n",
       "      <td>HIGH</td>\n",
       "      <td>1</td>\n",
       "      <td>Fire</td>\n",
       "    </tr>\n",
       "    <tr>\n",
       "      <th>634488</th>\n",
       "      <td>40.080929</td>\n",
       "      <td>-75.116392</td>\n",
       "      <td>RAMP RT422 WB TO TOWNSHIP LINE RD; ; 2020-05-0...</td>\n",
       "      <td>VEHICLE FIRE</td>\n",
       "      <td>2020-05-07 12:26:45</td>\n",
       "      <td>NaN</td>\n",
       "      <td>RAMP RT422 WB TO TOWNSHIP LINE RD</td>\n",
       "      <td>1</td>\n",
       "      <td>Fire</td>\n",
       "    </tr>\n",
       "    <tr>\n",
       "      <th>635588</th>\n",
       "      <td>40.222272</td>\n",
       "      <td>-75.138302</td>\n",
       "      <td>GIANT; ; 2020-05-11 @ 13:07:28-Station:STA26;</td>\n",
       "      <td>TRASH/DUMPSTER FIRE</td>\n",
       "      <td>2020-05-11 13:07:28</td>\n",
       "      <td>NaN</td>\n",
       "      <td>GIANT</td>\n",
       "      <td>1</td>\n",
       "      <td>Fire</td>\n",
       "    </tr>\n",
       "  </tbody>\n",
       "</table>\n",
       "<p>273 rows × 9 columns</p>\n",
       "</div>"
      ],
      "text/plain": [
       "         Latitude  Longitude  \\\n",
       "1635    40.162804 -75.097848   \n",
       "1821    40.099265 -75.175706   \n",
       "5455    40.222272 -75.138302   \n",
       "7281    40.113516 -75.332257   \n",
       "7282    40.113516 -75.332257   \n",
       "...           ...        ...   \n",
       "623919  40.229008 -75.387853   \n",
       "630844  40.152817 -75.224465   \n",
       "631459  40.102534 -75.196589   \n",
       "634488  40.080929 -75.116392   \n",
       "635588  40.222272 -75.138302   \n",
       "\n",
       "                                    Emergency Description  \\\n",
       "1635    TURNPIKE OVERPASS; ; 2015-12-14 @ 21:36:52-Sta...   \n",
       "1821    CHURCH RD;  ; Station 322; 2015-12-15 @ 11:31:36;   \n",
       "5455        GIANT; ; 2015-12-24 @ 17:30:07-Station:STA98;   \n",
       "7281      HIGH ST;  ; Station 329; 2015-12-30 @ 03:32:49;   \n",
       "7282      HIGH ST; ; 2015-12-30 @ 03:32:28-Station:STA58;   \n",
       "...                                                   ...   \n",
       "623919  NO LOCATION - NEIGHBORING COUNTY;  ; Station 3...   \n",
       "630844    STATION;  ; Station 313; 2020-04-24 @ 11:56:55;   \n",
       "631459       HIGH; ; 2020-04-26 @ 22:52:33-Station:STA69;   \n",
       "634488  RAMP RT422 WB TO TOWNSHIP LINE RD; ; 2020-05-0...   \n",
       "635588      GIANT; ; 2020-05-11 @ 13:07:28-Station:STA26;   \n",
       "\n",
       "                   Emergency Title       Date and time Township  \\\n",
       "1635              VEHICLE ACCIDENT 2015-12-14 21:36:52      NaN   \n",
       "1821     UNKNOWN MEDICAL EMERGENCY 2015-12-15 11:31:36      NaN   \n",
       "5455              VEHICLE ACCIDENT 2015-12-24 17:30:07      NaN   \n",
       "7281              VEHICLE ACCIDENT 2015-12-30 03:32:49      NaN   \n",
       "7282              VEHICLE ACCIDENT 2015-12-30 03:32:28      NaN   \n",
       "...                            ...                 ...      ...   \n",
       "623919   UNKNOWN MEDICAL EMERGENCY 2020-03-29 21:35:52      NaN   \n",
       "630844           CARDIAC EMERGENCY 2020-04-24 11:56:55      NaN   \n",
       "631459                  FIRE ALARM 2020-04-26 22:52:33      NaN   \n",
       "634488                VEHICLE FIRE 2020-05-07 12:26:45      NaN   \n",
       "635588         TRASH/DUMPSTER FIRE 2020-05-11 13:07:28      NaN   \n",
       "\n",
       "                          General Address  Index column, always 1  \\\n",
       "1635                    TURNPIKE OVERPASS                       1   \n",
       "1821                            CHURCH RD                       1   \n",
       "5455                                GIANT                       1   \n",
       "7281                              HIGH ST                       1   \n",
       "7282                              HIGH ST                       1   \n",
       "...                                   ...                     ...   \n",
       "623919   NO LOCATION - NEIGHBORING COUNTY                       1   \n",
       "630844                            STATION                       1   \n",
       "631459                               HIGH                       1   \n",
       "634488  RAMP RT422 WB TO TOWNSHIP LINE RD                       1   \n",
       "635588                              GIANT                       1   \n",
       "\n",
       "       Emergency category  \n",
       "1635                 Fire  \n",
       "1821                  EMS  \n",
       "5455                 Fire  \n",
       "7281                  EMS  \n",
       "7282                 Fire  \n",
       "...                   ...  \n",
       "623919                EMS  \n",
       "630844                EMS  \n",
       "631459               Fire  \n",
       "634488               Fire  \n",
       "635588               Fire  \n",
       "\n",
       "[273 rows x 9 columns]"
      ]
     },
     "execution_count": 108,
     "metadata": {},
     "output_type": "execute_result"
    }
   ],
   "source": [
    "df[df.isnull().any(axis=1)]"
   ]
  },
  {
   "cell_type": "code",
   "execution_count": 109,
   "metadata": {},
   "outputs": [],
   "source": [
    "df.dropna(subset=['Township'], inplace=True)"
   ]
  },
  {
   "cell_type": "code",
   "execution_count": 110,
   "metadata": {},
   "outputs": [
    {
     "data": {
      "text/plain": [
       "Latitude                  0\n",
       "Longitude                 0\n",
       "Emergency Description     0\n",
       "Emergency Title           0\n",
       "Date and time             0\n",
       "Township                  0\n",
       "General Address           0\n",
       "Index column, always 1    0\n",
       "Emergency category        0\n",
       "dtype: int64"
      ]
     },
     "execution_count": 110,
     "metadata": {},
     "output_type": "execute_result"
    }
   ],
   "source": [
    "df.isnull().sum()"
   ]
  },
  {
   "cell_type": "code",
   "execution_count": 18,
   "metadata": {},
   "outputs": [
    {
     "data": {
      "text/plain": [
       "[EMS, Fire, Traffic]\n",
       "Categories (3, object): [EMS, Fire, Traffic]"
      ]
     },
     "execution_count": 18,
     "metadata": {},
     "output_type": "execute_result"
    }
   ],
   "source": [
    "df['Emergency category'].unique()"
   ]
  },
  {
   "cell_type": "code",
   "execution_count": 19,
   "metadata": {},
   "outputs": [
    {
     "data": {
      "text/html": [
       "<div>\n",
       "<style scoped>\n",
       "    .dataframe tbody tr th:only-of-type {\n",
       "        vertical-align: middle;\n",
       "    }\n",
       "\n",
       "    .dataframe tbody tr th {\n",
       "        vertical-align: top;\n",
       "    }\n",
       "\n",
       "    .dataframe thead th {\n",
       "        text-align: right;\n",
       "    }\n",
       "</style>\n",
       "<table border=\"1\" class=\"dataframe\">\n",
       "  <thead>\n",
       "    <tr style=\"text-align: right;\">\n",
       "      <th></th>\n",
       "      <th>Latitude</th>\n",
       "      <th>Longitude</th>\n",
       "      <th>Emergency Description</th>\n",
       "      <th>Emergency Title</th>\n",
       "      <th>Date and time</th>\n",
       "      <th>Township</th>\n",
       "      <th>General Address</th>\n",
       "      <th>Index column, always 1</th>\n",
       "      <th>Emergency category</th>\n",
       "    </tr>\n",
       "  </thead>\n",
       "  <tbody>\n",
       "    <tr>\n",
       "      <th>0</th>\n",
       "      <td>40.297876</td>\n",
       "      <td>-75.581294</td>\n",
       "      <td>REINDEER CT &amp; DEAD END;  NEW HANOVER; Station ...</td>\n",
       "      <td>BACK PAINS/INJURY</td>\n",
       "      <td>2015-12-10 17:10:52</td>\n",
       "      <td>NEW HANOVER</td>\n",
       "      <td>REINDEER CT &amp; DEAD END</td>\n",
       "      <td>1</td>\n",
       "      <td>EMS</td>\n",
       "    </tr>\n",
       "    <tr>\n",
       "      <th>1</th>\n",
       "      <td>40.258061</td>\n",
       "      <td>-75.264680</td>\n",
       "      <td>BRIAR PATH &amp; WHITEMARSH LN;  HATFIELD TOWNSHIP...</td>\n",
       "      <td>DIABETIC EMERGENCY</td>\n",
       "      <td>2015-12-10 17:29:21</td>\n",
       "      <td>HATFIELD TOWNSHIP</td>\n",
       "      <td>BRIAR PATH &amp; WHITEMARSH LN</td>\n",
       "      <td>1</td>\n",
       "      <td>EMS</td>\n",
       "    </tr>\n",
       "    <tr>\n",
       "      <th>2</th>\n",
       "      <td>40.121182</td>\n",
       "      <td>-75.351975</td>\n",
       "      <td>HAWS AVE; NORRISTOWN; 2015-12-10 @ 14:39:21-St...</td>\n",
       "      <td>GAS</td>\n",
       "      <td>2015-12-10 14:39:21</td>\n",
       "      <td>NORRISTOWN</td>\n",
       "      <td>HAWS AVE</td>\n",
       "      <td>1</td>\n",
       "      <td>Fire</td>\n",
       "    </tr>\n",
       "    <tr>\n",
       "      <th>3</th>\n",
       "      <td>40.116153</td>\n",
       "      <td>-75.343513</td>\n",
       "      <td>AIRY ST &amp; SWEDE ST;  NORRISTOWN; Station 308A;...</td>\n",
       "      <td>CARDIAC EMERGENCY</td>\n",
       "      <td>2015-12-10 16:47:36</td>\n",
       "      <td>NORRISTOWN</td>\n",
       "      <td>AIRY ST &amp; SWEDE ST</td>\n",
       "      <td>1</td>\n",
       "      <td>EMS</td>\n",
       "    </tr>\n",
       "    <tr>\n",
       "      <th>4</th>\n",
       "      <td>40.251492</td>\n",
       "      <td>-75.603350</td>\n",
       "      <td>CHERRYWOOD CT &amp; DEAD END;  LOWER POTTSGROVE; S...</td>\n",
       "      <td>DIZZINESS</td>\n",
       "      <td>2015-12-10 16:56:52</td>\n",
       "      <td>LOWER POTTSGROVE</td>\n",
       "      <td>CHERRYWOOD CT &amp; DEAD END</td>\n",
       "      <td>1</td>\n",
       "      <td>EMS</td>\n",
       "    </tr>\n",
       "  </tbody>\n",
       "</table>\n",
       "</div>"
      ],
      "text/plain": [
       "    Latitude  Longitude                              Emergency Description  \\\n",
       "0  40.297876 -75.581294  REINDEER CT & DEAD END;  NEW HANOVER; Station ...   \n",
       "1  40.258061 -75.264680  BRIAR PATH & WHITEMARSH LN;  HATFIELD TOWNSHIP...   \n",
       "2  40.121182 -75.351975  HAWS AVE; NORRISTOWN; 2015-12-10 @ 14:39:21-St...   \n",
       "3  40.116153 -75.343513  AIRY ST & SWEDE ST;  NORRISTOWN; Station 308A;...   \n",
       "4  40.251492 -75.603350  CHERRYWOOD CT & DEAD END;  LOWER POTTSGROVE; S...   \n",
       "\n",
       "       Emergency Title       Date and time           Township  \\\n",
       "0    BACK PAINS/INJURY 2015-12-10 17:10:52        NEW HANOVER   \n",
       "1   DIABETIC EMERGENCY 2015-12-10 17:29:21  HATFIELD TOWNSHIP   \n",
       "2                  GAS 2015-12-10 14:39:21         NORRISTOWN   \n",
       "3    CARDIAC EMERGENCY 2015-12-10 16:47:36         NORRISTOWN   \n",
       "4            DIZZINESS 2015-12-10 16:56:52   LOWER POTTSGROVE   \n",
       "\n",
       "              General Address  Index column, always 1 Emergency category  \n",
       "0      REINDEER CT & DEAD END                       1                EMS  \n",
       "1  BRIAR PATH & WHITEMARSH LN                       1                EMS  \n",
       "2                    HAWS AVE                       1               Fire  \n",
       "3          AIRY ST & SWEDE ST                       1                EMS  \n",
       "4    CHERRYWOOD CT & DEAD END                       1                EMS  "
      ]
     },
     "execution_count": 19,
     "metadata": {},
     "output_type": "execute_result"
    }
   ],
   "source": [
    "df.head()"
   ]
  },
  {
   "cell_type": "code",
   "execution_count": 115,
   "metadata": {},
   "outputs": [
    {
     "data": {
      "text/plain": [
       "Emergency category\n",
       "Fire        95608\n",
       "Traffic    222751\n",
       "EMS        318607\n",
       "Name: Index column, always 1, dtype: int64"
      ]
     },
     "execution_count": 115,
     "metadata": {},
     "output_type": "execute_result"
    }
   ],
   "source": [
    "df.groupby(['Emergency category'])['Index column, always 1'].sum().sort_values()"
   ]
  },
  {
   "cell_type": "code",
   "execution_count": 119,
   "metadata": {},
   "outputs": [
    {
     "data": {
      "text/plain": [
       "array([2015, 2016, 2017, 2018, 2019, 2020], dtype=int64)"
      ]
     },
     "execution_count": 119,
     "metadata": {},
     "output_type": "execute_result"
    }
   ],
   "source": [
    "df['Date and time'].dt.year.unique()"
   ]
  },
  {
   "cell_type": "code",
   "execution_count": 67,
   "metadata": {},
   "outputs": [],
   "source": [
    "p2 = df[df['Emergency category'] == 'Traffic'].pivot_table(index=df['Date and time'].dt.hour, columns=df['Date and time'].dt.month, values='Index column, always 1', aggfunc=np.sum)"
   ]
  },
  {
   "cell_type": "code",
   "execution_count": 72,
   "metadata": {},
   "outputs": [
    {
     "data": {
      "text/plain": [
       "Text(0.5, 1.0, 'Traffic accidents intensity')"
      ]
     },
     "execution_count": 72,
     "metadata": {},
     "output_type": "execute_result"
    },
    {
     "data": {
      "image/png": "[encoded data removed]",
      "text/plain": [
       "<Figure size 432x288 with 2 Axes>"
      ]
     },
     "metadata": {
      "needs_background": "light"
     },
     "output_type": "display_data"
    }
   ],
   "source": [
    "ax2=sns.heatmap(p2,cmap=cmap)\n",
    "ax2.set_xlabel('Month')\n",
    "ax2.set_ylabel('Hour')\n",
    "ax2.set_title('Traffic accidents intensity')"
   ]
  },
  {
   "cell_type": "code",
   "execution_count": 22,
   "metadata": {},
   "outputs": [],
   "source": [
    "df.to_csv (r'C:\\Users\\Sylwia\\export_dataframe.csv', index = False, header=True)"
   ]
  }
 ],
 "metadata": {
  "kernelspec": {
   "display_name": "Python 3",
   "language": "python",
   "name": "python3"
  },
  "language_info": {
   "codemirror_mode": {
    "name": "ipython",
    "version": 3
   },
   "file_extension": ".py",
   "mimetype": "text/x-python",
   "name": "python",
   "nbconvert_exporter": "python",
   "pygments_lexer": "ipython3",
   "version": "3.7.3"
  }
 },
 "nbformat": 4,
 "nbformat_minor": 2
}
